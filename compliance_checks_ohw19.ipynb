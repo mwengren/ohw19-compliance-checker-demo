{
 "cells": [
  {
   "cell_type": "code",
   "execution_count": 1,
   "metadata": {},
   "outputs": [],
   "source": [
    "import erddapy\n",
    "import os"
   ]
  },
  {
   "cell_type": "markdown",
   "metadata": {},
   "source": [
    "### Import Compliance Checker"
   ]
  },
  {
   "cell_type": "code",
   "execution_count": 2,
   "metadata": {},
   "outputs": [],
   "source": [
    "from compliance_checker.runner import ComplianceChecker, CheckSuite"
   ]
  },
  {
   "cell_type": "markdown",
   "metadata": {},
   "source": [
    "### Let's take some datasets we've seen in this week's tutuorials:\n",
    "Here we want to use the OPeNDAP endpoints (extracted from some of Day 1 tutorial notebooks)"
   ]
  },
  {
   "cell_type": "code",
   "execution_count": 3,
   "metadata": {},
   "outputs": [
    {
     "name": "stdout",
     "output_type": "stream",
     "text": [
      "Dataset name: ioos_hfradar\tURL: http://hfrnet-tds.ucsd.edu/thredds/dodsC/HFR/USWC/6km/hourly/RTV/HFRADAR_US_West_Coast_6km_Resolution_Hourly_RTV_best.ncd\n",
      "Dataset name: podaac_mur_sst\tURL: https://podaac-opendap.jpl.nasa.gov/opendap/allData/ghrsst/data/GDS2/L4/GLOB/JPL/MUR/v4.1/2018/060/20180301090000-JPL-L4_GHRSST-SSTfnd-MUR-GLOB-v02.0-fv04.1.nc\n",
      "Dataset name: podaac_ostia_sst\tURL: https://podaac-opendap.jpl.nasa.gov/opendap/allData/ghrsst/data/GDS2/L4/GLOB/UKMO/OSTIA/v2/2018/060/20180301120000-UKMO-L4_GHRSST-SSTfnd-OSTIA-GLOB-v02.0-fv02.0.nc\n",
      "Dataset name: ooi_glider\tURL: https://erddap-uncabled.oceanobservatories.org/uncabled/erddap/tabledap/CE05MOAS-GL384-05-CTDGVM000-ctdgv_m_glider_instrument-telemetered-deployment0006-tabledap\n",
      "Dataset name: ioos_glider\tURL: https://data.ioos.us/gliders/erddap/tabledap/ce_327-20160923T0147\n"
     ]
    }
   ],
   "source": [
    "datasets = [\n",
    "{'name': 'ioos_hfradar', 'url': 'http://hfrnet-tds.ucsd.edu/thredds/dodsC/HFR/USWC/6km/hourly/RTV/HFRADAR_US_West_Coast_6km_Resolution_Hourly_RTV_best.ncd'},\n",
    "{'name': 'podaac_mur_sst', 'url': 'https://podaac-opendap.jpl.nasa.gov/opendap/allData/ghrsst/data/GDS2/L4/GLOB/JPL/MUR/v4.1/2018/060/20180301090000-JPL-L4_GHRSST-SSTfnd-MUR-GLOB-v02.0-fv04.1.nc'},\n",
    "{'name': 'podaac_ostia_sst', 'url': 'https://podaac-opendap.jpl.nasa.gov/opendap/allData/ghrsst/data/GDS2/L4/GLOB/UKMO/OSTIA/v2/2018/060/20180301120000-UKMO-L4_GHRSST-SSTfnd-OSTIA-GLOB-v02.0-fv02.0.nc'},\n",
    "{'name': 'ooi_glider', 'url': 'https://erddap-uncabled.oceanobservatories.org/uncabled/erddap/tabledap/CE05MOAS-GL384-05-CTDGVM000-ctdgv_m_glider_instrument-telemetered-deployment0006-tabledap'},\n",
    "{'name': 'ioos_glider', 'url': 'https://data.ioos.us/gliders/erddap/tabledap/ce_327-20160923T0147'},\n",
    "# beware, these datasets are too large and may timeout, skipping for now:\n",
    "#{'name': 'argo', 'url': 'http://www.ifremer.fr/erddap/tabledap/ArgoFloats'},\n",
    "#{'name': 'coastwatch_cci_chorophyll_a', 'url': 'https://coastwatch.pfeg.noaa.gov/erddap/griddap/pmlEsaCCI31OceanColor8Day'},\n",
    "#{'name': '', 'url': ''},\n",
    "]\n",
    "\n",
    "for dataset in datasets:\n",
    "     print(\"Dataset name: {}\\tURL: {}\".format(dataset['name'], dataset['url']))"
   ]
  },
  {
   "cell_type": "markdown",
   "metadata": {},
   "source": [
    "### Configure our tests and output filenames to save the results:"
   ]
  },
  {
   "cell_type": "code",
   "execution_count": 4,
   "metadata": {},
   "outputs": [],
   "source": [
    "# load Compliance Checker test definitions (boilerplate CC code):\n",
    "check_suite = CheckSuite()\n",
    "check_suite.load_all_available_checkers()\n",
    "\n",
    "#check_suite._get_valid_checkers()\n",
    "\n",
    "# let's run the CF and ACDD tests and output HTML and JSON results:\n",
    "checker_names = ['cf', 'acdd']\n",
    "output_format = ['json','html']\n",
    "verbose = 0\n",
    "criteria = 'normal'\n",
    "\n",
    "# generate output filehandles:\n",
    "for dataset in datasets:\n",
    "    dataset['output'] = \"output/{}.json\".format(dataset['name'])\n",
    "    #print(\"Dataset name: {}\\nURL: {}\\nOutput: {}\".format(dataset['name'], dataset['url'], dataset['output']))\n",
    "\n",
    "# just make a directory for output files:\n",
    "if not os.path.exists(datasets[0]['output']):\n",
    "    os.makedirs(os.path.dirname(datasets[0]['output']))\n",
    "    \n"
   ]
  },
  {
   "cell_type": "markdown",
   "metadata": {},
   "source": [
    "### Finally, run the tests against our collection of OPeNDAP endpoints:"
   ]
  },
  {
   "cell_type": "code",
   "execution_count": 5,
   "metadata": {},
   "outputs": [
    {
     "name": "stderr",
     "output_type": "stream",
     "text": [
      "WARNING: The following exceptions occured during the cf checker (possibly indicate compliance checker issues):\n",
      "cf.check_flags: <lambda>() missing 1 required positional argument: 'b'\n",
      "Using cached standard name table v29 from /home/jovyan/.local/share/compliance-checker/cf-standard-name-table-test-29.xml\n",
      "Using cached standard name table v27 from /home/jovyan/.local/share/compliance-checker/cf-standard-name-table-test-27.xml\n",
      "WARNING: The following exceptions occured during the acdd checker (possibly indicate compliance checker issues):\n",
      "acdd.check_lat_extents: index exceeds dimension bounds\n",
      "acdd.check_lon_extents: index exceeds dimension bounds\n"
     ]
    }
   ],
   "source": [
    "for dataset in datasets:\n",
    "    return_value, errors = ComplianceChecker.run_checker(dataset['url'],\n",
    "                                 checker_names,\n",
    "                                 verbose,\n",
    "                                 criteria,\n",
    "                                 output_filename=dataset['output'],\n",
    "                                 output_format=output_format)"
   ]
  },
  {
   "cell_type": "code",
   "execution_count": null,
   "metadata": {},
   "outputs": [],
   "source": []
  }
 ],
 "metadata": {
  "kernelspec": {
   "display_name": "Python 3",
   "language": "python",
   "name": "python3"
  },
  "language_info": {
   "codemirror_mode": {
    "name": "ipython",
    "version": 3
   },
   "file_extension": ".py",
   "mimetype": "text/x-python",
   "name": "python",
   "nbconvert_exporter": "python",
   "pygments_lexer": "ipython3",
   "version": "3.7.3"
  }
 },
 "nbformat": 4,
 "nbformat_minor": 4
}
